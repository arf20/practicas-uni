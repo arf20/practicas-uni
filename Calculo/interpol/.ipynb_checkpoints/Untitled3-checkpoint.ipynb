{
 "cells": [
  {
   "cell_type": "code",
   "execution_count": 1,
   "id": "d9c71c60",
   "metadata": {},
   "outputs": [
    {
     "data": {
      "text/html": [
       "<html><script type=\"math/tex; mode=display\">\\newcommand{\\Bold}[1]{\\mathbf{#1}}x \\ {\\mapsto}\\ e^{\\left(-x^{2}\\right)}</script></html>"
      ],
      "text/latex": [
       "$$\\newcommand{\\Bold}[1]{\\mathbf{#1}}x \\ {\\mapsto}\\ e^{\\left(-x^{2}\\right)}$$"
      ],
      "text/plain": [
       "x |--> e^(-x^2)"
      ]
     },
     "metadata": {},
     "output_type": "display_data"
    }
   ],
   "source": [
    "f(x) = e^(-x^2)\n",
    "n = 10\n",
    "a = -2\n",
    "b = 1\n",
    "show(f)"
   ]
  },
  {
   "cell_type": "code",
   "execution_count": 5,
   "id": "c6a64c5d",
   "metadata": {},
   "outputs": [
    {
     "data": {
      "text/plain": [
       "[-2,\n",
       " -37/20,\n",
       " -17/10,\n",
       " -31/20,\n",
       " -7/5,\n",
       " -5/4,\n",
       " -11/10,\n",
       " -19/20,\n",
       " -4/5,\n",
       " -13/20,\n",
       " -1/2,\n",
       " -7/20,\n",
       " -1/5,\n",
       " -1/20,\n",
       " 1/10,\n",
       " 1/4,\n",
       " 2/5,\n",
       " 11/20,\n",
       " 7/10,\n",
       " 17/20,\n",
       " 1]"
      ]
     },
     "execution_count": 5,
     "metadata": {},
     "output_type": "execute_result"
    }
   ],
   "source": [
    "X = [ (a + k*(b-a)/(2*n)) for k in [0..2*n] ]\n",
    "X"
   ]
  },
  {
   "cell_type": "code",
   "execution_count": 9,
   "id": "329ab454",
   "metadata": {},
   "outputs": [
    {
     "ename": "SyntaxError",
     "evalue": "'(' was never closed (4070341682.py, line 1)",
     "output_type": "error",
     "traceback": [
      "\u001b[0;36m  Cell \u001b[0;32mIn [9], line 1\u001b[0;36m\u001b[0m\n\u001b[0;31m    simpson = ((b-a)/(Integer(6)*n)*(f(a) + Integer(4)*sum(f(X[Integer(2)*i-Integer(1)]) for i in (ellipsis_range(Integer(0),Ellipsis,n))) + Integer(2)*sum(f(X[Integer(2)*i]) for i in (ellipsis_range(Integer(0),Ellipsis,n-Integer(1)))) + f(b))\u001b[0m\n\u001b[0m              ^\u001b[0m\n\u001b[0;31mSyntaxError\u001b[0m\u001b[0;31m:\u001b[0m '(' was never closed\n"
     ]
    }
   ],
   "source": [
    "simpson = ((b-a)/(6*n))*(f(a) + 4*sum(f(X[2*i-1]) for i in [0..n]) + 2*sum(f(X[2*i]) for i in [0..n-1]) + f(b))\n",
    "simpson.n()"
   ]
  },
  {
   "cell_type": "code",
   "execution_count": null,
   "id": "2ce76464",
   "metadata": {},
   "outputs": [],
   "source": []
  }
 ],
 "metadata": {
  "kernelspec": {
   "display_name": "SageMath 9.5",
   "language": "sage",
   "name": "sagemath"
  },
  "language_info": {
   "codemirror_mode": {
    "name": "ipython",
    "version": 3
   },
   "file_extension": ".py",
   "mimetype": "text/x-python",
   "name": "python",
   "nbconvert_exporter": "python",
   "pygments_lexer": "ipython3",
   "version": "3.11.2"
  }
 },
 "nbformat": 4,
 "nbformat_minor": 5
}
