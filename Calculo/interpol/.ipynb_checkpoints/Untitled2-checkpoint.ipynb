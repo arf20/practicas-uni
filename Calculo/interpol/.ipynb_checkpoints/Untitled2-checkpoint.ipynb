{
 "cells": [
  {
   "cell_type": "code",
   "execution_count": 1,
   "id": "dbd7b64e",
   "metadata": {},
   "outputs": [
    {
     "data": {
      "text/html": [
       "<html><script type=\"math/tex; mode=display\">\\newcommand{\\Bold}[1]{\\mathbf{#1}}x \\ {\\mapsto}\\ \\frac{\\sin\\left(x\\right)}{x}</script></html>"
      ],
      "text/latex": [
       "$$\\newcommand{\\Bold}[1]{\\mathbf{#1}}x \\ {\\mapsto}\\ \\frac{\\sin\\left(x\\right)}{x}$$"
      ],
      "text/plain": [
       "x |--> sin(x)/x"
      ]
     },
     "metadata": {},
     "output_type": "display_data"
    }
   ],
   "source": [
    "f(x) = sin(x)/x\n",
    "show(f)"
   ]
  },
  {
   "cell_type": "code",
   "execution_count": 2,
   "id": "77735af1",
   "metadata": {},
   "outputs": [],
   "source": [
    "a = 2\n",
    "b = 4\n",
    "n = 20"
   ]
  },
  {
   "cell_type": "code",
   "execution_count": 3,
   "id": "577ae0bd",
   "metadata": {},
   "outputs": [
    {
     "data": {
      "text/plain": [
       "[2,\n",
       " 21/10,\n",
       " 11/5,\n",
       " 23/10,\n",
       " 12/5,\n",
       " 5/2,\n",
       " 13/5,\n",
       " 27/10,\n",
       " 14/5,\n",
       " 29/10,\n",
       " 3,\n",
       " 31/10,\n",
       " 16/5,\n",
       " 33/10,\n",
       " 17/5,\n",
       " 7/2,\n",
       " 18/5,\n",
       " 37/10,\n",
       " 19/5,\n",
       " 39/10,\n",
       " 4]"
      ]
     },
     "execution_count": 3,
     "metadata": {},
     "output_type": "execute_result"
    }
   ],
   "source": [
    "X = [(a + k*((b-a)/n)) for k in [0..n]]\n",
    "X"
   ]
  },
  {
   "cell_type": "code",
   "execution_count": 7,
   "id": "03341200",
   "metadata": {},
   "outputs": [
    {
     "data": {
      "text/plain": [
       "0.153056270644161"
      ]
     },
     "execution_count": 7,
     "metadata": {},
     "output_type": "execute_result"
    }
   ],
   "source": [
    "trap = ((b-a)/n) * sum( (f(X[i]) + f(X[i+1]))/2 for i in [0..n-1] )\n",
    "trap.n()"
   ]
  },
  {
   "cell_type": "code",
   "execution_count": 9,
   "id": "758a27b3",
   "metadata": {},
   "outputs": [
    {
     "data": {
      "image/png": "[encoded data removed]",
      "text/plain": [
       "Graphics object consisting of 2 graphics primitives"
      ]
     },
     "execution_count": 9,
     "metadata": {},
     "output_type": "execute_result"
    }
   ],
   "source": [
    "plot(abs(diff(f, x, 2)), a, b) + plot(0.25, a, b, color='red')"
   ]
  },
  {
   "cell_type": "code",
   "execution_count": 13,
   "id": "12d6d085",
   "metadata": {},
   "outputs": [
    {
     "data": {
      "text/plain": [
       "0.000416666666666667"
      ]
     },
     "execution_count": 13,
     "metadata": {},
     "output_type": "execute_result"
    }
   ],
   "source": [
    "cota = (0.25*(b-a)^3)/(12*n^2)\n",
    "cota"
   ]
  },
  {
   "cell_type": "code",
   "execution_count": 16,
   "id": "7d3be034",
   "metadata": {},
   "outputs": [
    {
     "data": {
      "text/plain": [
       "True"
      ]
     },
     "execution_count": 16,
     "metadata": {},
     "output_type": "execute_result"
    }
   ],
   "source": [
    "abs(integral(f(x), x, a, b) - trap).n() < cota"
   ]
  },
  {
   "cell_type": "code",
   "execution_count": null,
   "id": "fc53f57d",
   "metadata": {},
   "outputs": [],
   "source": []
  }
 ],
 "metadata": {
  "kernelspec": {
   "display_name": "SageMath 9.5",
   "language": "sage",
   "name": "sagemath"
  },
  "language_info": {
   "codemirror_mode": {
    "name": "ipython",
    "version": 3
   },
   "file_extension": ".py",
   "mimetype": "text/x-python",
   "name": "python",
   "nbconvert_exporter": "python",
   "pygments_lexer": "ipython3",
   "version": "3.11.2"
  }
 },
 "nbformat": 4,
 "nbformat_minor": 5
}
