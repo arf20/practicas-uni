{
 "cells": [
  {
   "cell_type": "code",
   "execution_count": 2,
   "id": "d5723eac",
   "metadata": {},
   "outputs": [
    {
     "data": {
      "text/html": [
       "<html><script type=\"math/tex; mode=display\">\\newcommand{\\Bold}[1]{\\mathbf{#1}}x \\ {\\mapsto}\\ -\\frac{x}{3 \\, x^{4} - 1}</script></html>"
      ],
      "text/latex": [
       "$$\\newcommand{\\Bold}[1]{\\mathbf{#1}}x \\ {\\mapsto}\\ -\\frac{x}{3 \\, x^{4} - 1}$$"
      ],
      "text/plain": [
       "x |--> -x/(3*x^4 - 1)"
      ]
     },
     "metadata": {},
     "output_type": "display_data"
    }
   ],
   "source": [
    "f(x) = x/(1-3*x^4)\n",
    "show(f)"
   ]
  },
  {
   "cell_type": "code",
   "execution_count": 8,
   "id": "688a3a8e",
   "metadata": {},
   "outputs": [
    {
     "data": {
      "text/html": [
       "<html><script type=\"math/tex; mode=display\">\\newcommand{\\Bold}[1]{\\mathbf{#1}}k \\ {\\mapsto}\\ \\cos\\left(\\pi - \\frac{1}{12} \\, \\pi k\\right)</script></html>"
      ],
      "text/latex": [
       "$$\\newcommand{\\Bold}[1]{\\mathbf{#1}}k \\ {\\mapsto}\\ \\cos\\left(\\pi - \\frac{1}{12} \\, \\pi k\\right)$$"
      ],
      "text/plain": [
       "k |--> cos(pi - 1/12*pi*k)"
      ]
     },
     "metadata": {},
     "output_type": "display_data"
    }
   ],
   "source": [
    "p(k) = cos((1-k/12)*pi) # 0..12\n",
    "show(p)"
   ]
  },
  {
   "cell_type": "code",
   "execution_count": 9,
   "id": "26c3ab4b",
   "metadata": {},
   "outputs": [
    {
     "data": {
      "text/plain": [
       "[-1,\n",
       " -1/4*sqrt(6) - 1/4*sqrt(2),\n",
       " -1/2*sqrt(3),\n",
       " -1/2*sqrt(2),\n",
       " -1/2,\n",
       " -1/4*sqrt(6) + 1/4*sqrt(2),\n",
       " 0,\n",
       " 1/4*sqrt(6) - 1/4*sqrt(2),\n",
       " 1/2,\n",
       " 1/2*sqrt(2),\n",
       " 1/2*sqrt(3),\n",
       " 1/4*sqrt(6) + 1/4*sqrt(2),\n",
       " 1]"
      ]
     },
     "execution_count": 9,
     "metadata": {},
     "output_type": "execute_result"
    }
   ],
   "source": [
    "X = [ p(k) for k in [0..12]]\n",
    "X"
   ]
  },
  {
   "cell_type": "code",
   "execution_count": 11,
   "id": "03baef3e",
   "metadata": {},
   "outputs": [
    {
     "data": {
      "text/plain": [
       "[(-1, 1/2),\n",
       " (-1/4*sqrt(6) - 1/4*sqrt(2),\n",
       "  64*(sqrt(6) + sqrt(2))/(3*(sqrt(6) + sqrt(2))^4 - 256)),\n",
       " (-1/2*sqrt(3), 8/11*sqrt(3)),\n",
       " (-1/2*sqrt(2), -2*sqrt(2)),\n",
       " (-1/2, -8/13),\n",
       " (-1/4*sqrt(6) + 1/4*sqrt(2),\n",
       "  64*(sqrt(6) - sqrt(2))/(3*(sqrt(6) - sqrt(2))^4 - 256)),\n",
       " (0, 0),\n",
       " (1/4*sqrt(6) - 1/4*sqrt(2),\n",
       "  -64*(sqrt(6) - sqrt(2))/(3*(sqrt(6) - sqrt(2))^4 - 256)),\n",
       " (1/2, 8/13),\n",
       " (1/2*sqrt(2), 2*sqrt(2)),\n",
       " (1/2*sqrt(3), -8/11*sqrt(3)),\n",
       " (1/4*sqrt(6) + 1/4*sqrt(2),\n",
       "  -64*(sqrt(6) + sqrt(2))/(3*(sqrt(6) + sqrt(2))^4 - 256)),\n",
       " (1, -1/2)]"
      ]
     },
     "execution_count": 11,
     "metadata": {},
     "output_type": "execute_result"
    }
   ],
   "source": [
    "XY = [ (X[i], f(X[i])) for i in [0..12]]\n",
    "XY"
   ]
  },
  {
   "cell_type": "code",
   "execution_count": 12,
   "id": "c6c93b89",
   "metadata": {},
   "outputs": [
    {
     "data": {
      "text/html": [
       "<html><script type=\"math/tex; mode=display\">\\newcommand{\\Bold}[1]{\\mathbf{#1}}\\left( a, b, x \\right) \\ {\\mapsto} \\ \\frac{{\\left(a - x\\right)} {\\left(\\frac{a}{3 \\, a^{4} - 1} - \\frac{b}{3 \\, b^{4} - 1}\\right)}}{a - b} - \\frac{a}{3 \\, a^{4} - 1}</script></html>"
      ],
      "text/latex": [
       "$$\\newcommand{\\Bold}[1]{\\mathbf{#1}}\\left( a, b, x \\right) \\ {\\mapsto} \\ \\frac{{\\left(a - x\\right)} {\\left(\\frac{a}{3 \\, a^{4} - 1} - \\frac{b}{3 \\, b^{4} - 1}\\right)}}{a - b} - \\frac{a}{3 \\, a^{4} - 1}$$"
      ],
      "text/plain": [
       "(a, b, x) |--> (a - x)*(a/(3*a^4 - 1) - b/(3*b^4 - 1))/(a - b) - a/(3*a^4 - 1)"
      ]
     },
     "metadata": {},
     "output_type": "display_data"
    }
   ],
   "source": [
    "r(a, b, x) = f(a) + ((f(b) - f(a))/(b - a))*(x - a)\n",
    "show(r)"
   ]
  },
  {
   "cell_type": "code",
   "execution_count": 14,
   "id": "35f473db",
   "metadata": {},
   "outputs": [
    {
     "data": {
      "text/html": [
       "<html><script type=\"math/tex; mode=display\">\\newcommand{\\Bold}[1]{\\mathbf{#1}}piecewise\\left(\\left(\\left((-1, -\\frac{1}{4} \\, \\sqrt{6} - \\frac{1}{4} \\, \\sqrt{2}), -\\frac{2 \\, {\\left(x + 1\\right)} {\\left(\\frac{128 \\, {\\left(\\sqrt{6} + \\sqrt{2}\\right)}}{3 \\, {\\left(\\sqrt{6} + \\sqrt{2}\\right)}^{4} - 256} - 1\\right)}}{\\sqrt{6} + \\sqrt{2} - 4} + \\frac{1}{2}\\right), \\left((-\\frac{1}{4} \\, \\sqrt{6} - \\frac{1}{4} \\, \\sqrt{2}, -\\frac{1}{2} \\, \\sqrt{3}), \\frac{8 \\, {\\left(4 \\, x + \\sqrt{6} + \\sqrt{2}\\right)} {\\left(\\sqrt{3} - \\frac{88 \\, {\\left(\\sqrt{6} + \\sqrt{2}\\right)}}{3 \\, {\\left(\\sqrt{6} + \\sqrt{2}\\right)}^{4} - 256}\\right)}}{11 \\, {\\left(\\sqrt{6} - 2 \\, \\sqrt{3} + \\sqrt{2}\\right)}} + \\frac{64 \\, {\\left(\\sqrt{6} + \\sqrt{2}\\right)}}{3 \\, {\\left(\\sqrt{6} + \\sqrt{2}\\right)}^{4} - 256}\\right), \\left((-\\frac{1}{2} \\, \\sqrt{3}, -\\frac{1}{2} \\, \\sqrt{2}), -\\frac{2 \\, {\\left(2 \\, x + \\sqrt{3}\\right)} {\\left(4 \\, \\sqrt{3} + 11 \\, \\sqrt{2}\\right)}}{11 \\, {\\left(\\sqrt{3} - \\sqrt{2}\\right)}} + \\frac{8}{11} \\, \\sqrt{3}\\right), \\left((-\\frac{1}{2} \\, \\sqrt{2}, -\\frac{1}{2}), \\frac{2 \\, {\\left(2 \\, x + \\sqrt{2}\\right)} {\\left(13 \\, \\sqrt{2} - 4\\right)}}{13 \\, {\\left(\\sqrt{2} - 1\\right)}} - 2 \\, \\sqrt{2}\\right), \\left((-\\frac{1}{2}, -\\frac{1}{4} \\, \\sqrt{6} + \\frac{1}{4} \\, \\sqrt{2}), -\\frac{16 \\, {\\left(2 \\, x + 1\\right)} {\\left(\\frac{104 \\, {\\left(\\sqrt{6} - \\sqrt{2}\\right)}}{3 \\, {\\left(\\sqrt{6} - \\sqrt{2}\\right)}^{4} - 256} + 1\\right)}}{13 \\, {\\left(\\sqrt{6} - \\sqrt{2} - 2\\right)}} - \\frac{8}{13}\\right), \\left((-\\frac{1}{4} \\, \\sqrt{6} + \\frac{1}{4} \\, \\sqrt{2}, 0), -\\frac{64 \\, {\\left(4 \\, x + \\sqrt{6} - \\sqrt{2}\\right)}}{3 \\, {\\left(\\sqrt{6} - \\sqrt{2}\\right)}^{4} - 256} + \\frac{64 \\, {\\left(\\sqrt{6} - \\sqrt{2}\\right)}}{3 \\, {\\left(\\sqrt{6} - \\sqrt{2}\\right)}^{4} - 256}\\right), \\left((0, \\frac{1}{4} \\, \\sqrt{6} - \\frac{1}{4} \\, \\sqrt{2}), -\\frac{256 \\, x}{3 \\, {\\left(\\sqrt{6} - \\sqrt{2}\\right)}^{4} - 256}\\right), \\left((\\frac{1}{4} \\, \\sqrt{6} - \\frac{1}{4} \\, \\sqrt{2}, \\frac{1}{2}), -\\frac{8 \\, {\\left(4 \\, x - \\sqrt{6} + \\sqrt{2}\\right)} {\\left(\\frac{104 \\, {\\left(\\sqrt{6} - \\sqrt{2}\\right)}}{3 \\, {\\left(\\sqrt{6} - \\sqrt{2}\\right)}^{4} - 256} + 1\\right)}}{13 \\, {\\left(\\sqrt{6} - \\sqrt{2} - 2\\right)}} - \\frac{64 \\, {\\left(\\sqrt{6} - \\sqrt{2}\\right)}}{3 \\, {\\left(\\sqrt{6} - \\sqrt{2}\\right)}^{4} - 256}\\right), \\left((\\frac{1}{2}, \\frac{1}{2} \\, \\sqrt{2}), \\frac{2 \\, {\\left(2 \\, x - 1\\right)} {\\left(13 \\, \\sqrt{2} - 4\\right)}}{13 \\, {\\left(\\sqrt{2} - 1\\right)}} + \\frac{8}{13}\\right), \\left((\\frac{1}{2} \\, \\sqrt{2}, \\frac{1}{2} \\, \\sqrt{3}), -\\frac{2 \\, {\\left(2 \\, x - \\sqrt{2}\\right)} {\\left(4 \\, \\sqrt{3} + 11 \\, \\sqrt{2}\\right)}}{11 \\, {\\left(\\sqrt{3} - \\sqrt{2}\\right)}} + 2 \\, \\sqrt{2}\\right), \\left((\\frac{1}{2} \\, \\sqrt{3}, \\frac{1}{4} \\, \\sqrt{6} + \\frac{1}{4} \\, \\sqrt{2}), \\frac{16 \\, {\\left(2 \\, x - \\sqrt{3}\\right)} {\\left(\\sqrt{3} - \\frac{88 \\, {\\left(\\sqrt{6} + \\sqrt{2}\\right)}}{3 \\, {\\left(\\sqrt{6} + \\sqrt{2}\\right)}^{4} - 256}\\right)}}{11 \\, {\\left(\\sqrt{6} - 2 \\, \\sqrt{3} + \\sqrt{2}\\right)}} - \\frac{8}{11} \\, \\sqrt{3}\\right), \\left((\\frac{1}{4} \\, \\sqrt{6} + \\frac{1}{4} \\, \\sqrt{2}, 1), -\\frac{{\\left(4 \\, x - \\sqrt{6} - \\sqrt{2}\\right)} {\\left(\\frac{128 \\, {\\left(\\sqrt{6} + \\sqrt{2}\\right)}}{3 \\, {\\left(\\sqrt{6} + \\sqrt{2}\\right)}^{4} - 256} - 1\\right)}}{2 \\, {\\left(\\sqrt{6} + \\sqrt{2} - 4\\right)}} - \\frac{64 \\, {\\left(\\sqrt{6} + \\sqrt{2}\\right)}}{3 \\, {\\left(\\sqrt{6} + \\sqrt{2}\\right)}^{4} - 256}\\right)\\right), x\\right)</script></html>"
      ],
      "text/latex": [
       "$$\\newcommand{\\Bold}[1]{\\mathbf{#1}}piecewise\\left(\\left(\\left((-1, -\\frac{1}{4} \\, \\sqrt{6} - \\frac{1}{4} \\, \\sqrt{2}), -\\frac{2 \\, {\\left(x + 1\\right)} {\\left(\\frac{128 \\, {\\left(\\sqrt{6} + \\sqrt{2}\\right)}}{3 \\, {\\left(\\sqrt{6} + \\sqrt{2}\\right)}^{4} - 256} - 1\\right)}}{\\sqrt{6} + \\sqrt{2} - 4} + \\frac{1}{2}\\right), \\left((-\\frac{1}{4} \\, \\sqrt{6} - \\frac{1}{4} \\, \\sqrt{2}, -\\frac{1}{2} \\, \\sqrt{3}), \\frac{8 \\, {\\left(4 \\, x + \\sqrt{6} + \\sqrt{2}\\right)} {\\left(\\sqrt{3} - \\frac{88 \\, {\\left(\\sqrt{6} + \\sqrt{2}\\right)}}{3 \\, {\\left(\\sqrt{6} + \\sqrt{2}\\right)}^{4} - 256}\\right)}}{11 \\, {\\left(\\sqrt{6} - 2 \\, \\sqrt{3} + \\sqrt{2}\\right)}} + \\frac{64 \\, {\\left(\\sqrt{6} + \\sqrt{2}\\right)}}{3 \\, {\\left(\\sqrt{6} + \\sqrt{2}\\right)}^{4} - 256}\\right), \\left((-\\frac{1}{2} \\, \\sqrt{3}, -\\frac{1}{2} \\, \\sqrt{2}), -\\frac{2 \\, {\\left(2 \\, x + \\sqrt{3}\\right)} {\\left(4 \\, \\sqrt{3} + 11 \\, \\sqrt{2}\\right)}}{11 \\, {\\left(\\sqrt{3} - \\sqrt{2}\\right)}} + \\frac{8}{11} \\, \\sqrt{3}\\right), \\left((-\\frac{1}{2} \\, \\sqrt{2}, -\\frac{1}{2}), \\frac{2 \\, {\\left(2 \\, x + \\sqrt{2}\\right)} {\\left(13 \\, \\sqrt{2} - 4\\right)}}{13 \\, {\\left(\\sqrt{2} - 1\\right)}} - 2 \\, \\sqrt{2}\\right), \\left((-\\frac{1}{2}, -\\frac{1}{4} \\, \\sqrt{6} + \\frac{1}{4} \\, \\sqrt{2}), -\\frac{16 \\, {\\left(2 \\, x + 1\\right)} {\\left(\\frac{104 \\, {\\left(\\sqrt{6} - \\sqrt{2}\\right)}}{3 \\, {\\left(\\sqrt{6} - \\sqrt{2}\\right)}^{4} - 256} + 1\\right)}}{13 \\, {\\left(\\sqrt{6} - \\sqrt{2} - 2\\right)}} - \\frac{8}{13}\\right), \\left((-\\frac{1}{4} \\, \\sqrt{6} + \\frac{1}{4} \\, \\sqrt{2}, 0), -\\frac{64 \\, {\\left(4 \\, x + \\sqrt{6} - \\sqrt{2}\\right)}}{3 \\, {\\left(\\sqrt{6} - \\sqrt{2}\\right)}^{4} - 256} + \\frac{64 \\, {\\left(\\sqrt{6} - \\sqrt{2}\\right)}}{3 \\, {\\left(\\sqrt{6} - \\sqrt{2}\\right)}^{4} - 256}\\right), \\left((0, \\frac{1}{4} \\, \\sqrt{6} - \\frac{1}{4} \\, \\sqrt{2}), -\\frac{256 \\, x}{3 \\, {\\left(\\sqrt{6} - \\sqrt{2}\\right)}^{4} - 256}\\right), \\left((\\frac{1}{4} \\, \\sqrt{6} - \\frac{1}{4} \\, \\sqrt{2}, \\frac{1}{2}), -\\frac{8 \\, {\\left(4 \\, x - \\sqrt{6} + \\sqrt{2}\\right)} {\\left(\\frac{104 \\, {\\left(\\sqrt{6} - \\sqrt{2}\\right)}}{3 \\, {\\left(\\sqrt{6} - \\sqrt{2}\\right)}^{4} - 256} + 1\\right)}}{13 \\, {\\left(\\sqrt{6} - \\sqrt{2} - 2\\right)}} - \\frac{64 \\, {\\left(\\sqrt{6} - \\sqrt{2}\\right)}}{3 \\, {\\left(\\sqrt{6} - \\sqrt{2}\\right)}^{4} - 256}\\right), \\left((\\frac{1}{2}, \\frac{1}{2} \\, \\sqrt{2}), \\frac{2 \\, {\\left(2 \\, x - 1\\right)} {\\left(13 \\, \\sqrt{2} - 4\\right)}}{13 \\, {\\left(\\sqrt{2} - 1\\right)}} + \\frac{8}{13}\\right), \\left((\\frac{1}{2} \\, \\sqrt{2}, \\frac{1}{2} \\, \\sqrt{3}), -\\frac{2 \\, {\\left(2 \\, x - \\sqrt{2}\\right)} {\\left(4 \\, \\sqrt{3} + 11 \\, \\sqrt{2}\\right)}}{11 \\, {\\left(\\sqrt{3} - \\sqrt{2}\\right)}} + 2 \\, \\sqrt{2}\\right), \\left((\\frac{1}{2} \\, \\sqrt{3}, \\frac{1}{4} \\, \\sqrt{6} + \\frac{1}{4} \\, \\sqrt{2}), \\frac{16 \\, {\\left(2 \\, x - \\sqrt{3}\\right)} {\\left(\\sqrt{3} - \\frac{88 \\, {\\left(\\sqrt{6} + \\sqrt{2}\\right)}}{3 \\, {\\left(\\sqrt{6} + \\sqrt{2}\\right)}^{4} - 256}\\right)}}{11 \\, {\\left(\\sqrt{6} - 2 \\, \\sqrt{3} + \\sqrt{2}\\right)}} - \\frac{8}{11} \\, \\sqrt{3}\\right), \\left((\\frac{1}{4} \\, \\sqrt{6} + \\frac{1}{4} \\, \\sqrt{2}, 1), -\\frac{{\\left(4 \\, x - \\sqrt{6} - \\sqrt{2}\\right)} {\\left(\\frac{128 \\, {\\left(\\sqrt{6} + \\sqrt{2}\\right)}}{3 \\, {\\left(\\sqrt{6} + \\sqrt{2}\\right)}^{4} - 256} - 1\\right)}}{2 \\, {\\left(\\sqrt{6} + \\sqrt{2} - 4\\right)}} - \\frac{64 \\, {\\left(\\sqrt{6} + \\sqrt{2}\\right)}}{3 \\, {\\left(\\sqrt{6} + \\sqrt{2}\\right)}^{4} - 256}\\right)\\right), x\\right)$$"
      ],
      "text/plain": [
       "piecewise(x|-->-2*(x + 1)*(128*(sqrt(6) + sqrt(2))/(3*(sqrt(6) + sqrt(2))^4 - 256) - 1)/(sqrt(6) + sqrt(2) - 4) + 1/2 on (-1, -1/4*sqrt(6) - 1/4*sqrt(2)), x|-->8/11*(4*x + sqrt(6) + sqrt(2))*(sqrt(3) - 88*(sqrt(6) + sqrt(2))/(3*(sqrt(6) + sqrt(2))^4 - 256))/(sqrt(6) - 2*sqrt(3) + sqrt(2)) + 64*(sqrt(6) + sqrt(2))/(3*(sqrt(6) + sqrt(2))^4 - 256) on (-1/4*sqrt(6) - 1/4*sqrt(2), -1/2*sqrt(3)), x|-->-2/11*(2*x + sqrt(3))*(4*sqrt(3) + 11*sqrt(2))/(sqrt(3) - sqrt(2)) + 8/11*sqrt(3) on (-1/2*sqrt(3), -1/2*sqrt(2)), x|-->2/13*(2*x + sqrt(2))*(13*sqrt(2) - 4)/(sqrt(2) - 1) - 2*sqrt(2) on (-1/2*sqrt(2), -1/2), x|-->-16/13*(2*x + 1)*(104*(sqrt(6) - sqrt(2))/(3*(sqrt(6) - sqrt(2))^4 - 256) + 1)/(sqrt(6) - sqrt(2) - 2) - 8/13 on (-1/2, -1/4*sqrt(6) + 1/4*sqrt(2)), x|-->-64*(4*x + sqrt(6) - sqrt(2))/(3*(sqrt(6) - sqrt(2))^4 - 256) + 64*(sqrt(6) - sqrt(2))/(3*(sqrt(6) - sqrt(2))^4 - 256) on (-1/4*sqrt(6) + 1/4*sqrt(2), 0), x|-->-256*x/(3*(sqrt(6) - sqrt(2))^4 - 256) on (0, 1/4*sqrt(6) - 1/4*sqrt(2)), x|-->-8/13*(4*x - sqrt(6) + sqrt(2))*(104*(sqrt(6) - sqrt(2))/(3*(sqrt(6) - sqrt(2))^4 - 256) + 1)/(sqrt(6) - sqrt(2) - 2) - 64*(sqrt(6) - sqrt(2))/(3*(sqrt(6) - sqrt(2))^4 - 256) on (1/4*sqrt(6) - 1/4*sqrt(2), 1/2), x|-->2/13*(2*x - 1)*(13*sqrt(2) - 4)/(sqrt(2) - 1) + 8/13 on (1/2, 1/2*sqrt(2)), x|-->-2/11*(2*x - sqrt(2))*(4*sqrt(3) + 11*sqrt(2))/(sqrt(3) - sqrt(2)) + 2*sqrt(2) on (1/2*sqrt(2), 1/2*sqrt(3)), x|-->16/11*(2*x - sqrt(3))*(sqrt(3) - 88*(sqrt(6) + sqrt(2))/(3*(sqrt(6) + sqrt(2))^4 - 256))/(sqrt(6) - 2*sqrt(3) + sqrt(2)) - 8/11*sqrt(3) on (1/2*sqrt(3), 1/4*sqrt(6) + 1/4*sqrt(2)), x|-->-1/2*(4*x - sqrt(6) - sqrt(2))*(128*(sqrt(6) + sqrt(2))/(3*(sqrt(6) + sqrt(2))^4 - 256) - 1)/(sqrt(6) + sqrt(2) - 4) - 64*(sqrt(6) + sqrt(2))/(3*(sqrt(6) + sqrt(2))^4 - 256) on (1/4*sqrt(6) + 1/4*sqrt(2), 1); x)"
      ]
     },
     "metadata": {},
     "output_type": "display_data"
    }
   ],
   "source": [
    "L = piecewise([[(X[i], X[i+1]), r(X[i], X[i+1], x)] for i in [0..11]], var=x)\n",
    "show(L)"
   ]
  },
  {
   "cell_type": "code",
   "execution_count": null,
   "id": "cb759a26",
   "metadata": {},
   "outputs": [],
   "source": [
    "plot(f, -1, 1) + plot(L, -1, 1, color='magenta')"
   ]
  },
  {
   "cell_type": "code",
   "execution_count": null,
   "id": "6abfe86b",
   "metadata": {},
   "outputs": [],
   "source": []
  }
 ],
 "metadata": {
  "kernelspec": {
   "display_name": "SageMath 9.5",
   "language": "sage",
   "name": "sagemath"
  },
  "language_info": {
   "codemirror_mode": {
    "name": "ipython",
    "version": 3
   },
   "file_extension": ".py",
   "mimetype": "text/x-python",
   "name": "python",
   "nbconvert_exporter": "python",
   "pygments_lexer": "ipython3",
   "version": "3.11.2"
  }
 },
 "nbformat": 4,
 "nbformat_minor": 5
}
